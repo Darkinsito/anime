{
 "metadata": {
  "language_info": {
   "codemirror_mode": {
    "name": "ipython",
    "version": 3
   },
   "file_extension": ".py",
   "mimetype": "text/x-python",
   "name": "python",
   "nbconvert_exporter": "python",
   "pygments_lexer": "ipython3",
   "version": "3.8.5-final"
  },
  "orig_nbformat": 2,
  "kernelspec": {
   "name": "python3",
   "display_name": "Python 3",
   "language": "python"
  }
 },
 "nbformat": 4,
 "nbformat_minor": 2,
 "cells": [
  {
   "source": [
    "# Scrapper de Animeflv\n",
    "La idea es utilizarlo en combinacion con algun software como JDownloader"
   ],
   "cell_type": "markdown",
   "metadata": {}
  },
  {
   "cell_type": "code",
   "execution_count": 3,
   "metadata": {},
   "outputs": [],
   "source": [
    "import requests                 # Para obtener datos de la pagina _____\n",
    "from bs4 import BeautifulSoup as bs\n",
    "\n",
    "# Descargar la pagina web ______________________________________________________\n",
    "#Funcion get_page() de busqueda.py\n",
    "from busqueda import *\n",
    "\n",
    "# Pasar de numero de capitulos hasta lista ___________________________________\n",
    "def capitulos(desde,hasta): # Se usa para generar una lista con los capitulos\n",
    "    \"\"\"\n",
    "    Le dices desde que capitulo hasta cual quieres, obtendras una lista con\n",
    "    los numeros de los capotulos que deseas ver\n",
    "    [1,2,3,4]\n",
    "    \"\"\"\n",
    "    caps = []\n",
    "    for i in range(desde, hasta+1): #el +1 es para incluir el 2do numero\n",
    "        caps.append(str(i)) #lo agregamos a la lista de caps como string\n",
    "    return caps\n",
    "\n",
    "# Obtener los capitulos ____________________________________________________\n",
    "def getcaps(url0, caps,imprimir = False):\n",
    "    \"\"\"\n",
    "    Le damos la url inicial, osea la del capitulo uno, y una lista con los\n",
    "    capitulos que queremos ver, automaticamente generara una lista con los\n",
    "    capitulos que buscamos, antes de usarla debes de crear una lista vacia\n",
    "    llamada \"cd\", esta funcion no retorna nada pero modifica esa lista\n",
    "\n",
    "    \"\"\"\n",
    "    url0 = url0[:-1] #quito el 1\n",
    "    cd = []\n",
    "\n",
    "    #irterar sobre los numeros\n",
    "    for n in caps:\n",
    "        cd.append(url0 + n)\n",
    "        if imprimir:\n",
    "            print(url0 + n)\n",
    "    return cd\n",
    "\n",
    "# Funcion de descarga _______________________________________________________\n",
    "def obtenerlinkid(url0, calidad=\"360p\"):\n",
    "    \"\"\"\n",
    "    Esto es cuando no existe un servidor de pormedio, pero es descarga directa\n",
    "    utilizamos las funciones get_page() y grep() para obtener la url final\n",
    "    \"\"\"\n",
    "    animesopa = get_page(url0) #descargamos la pagina\n",
    "    \n",
    "    #encontrar el link del boton verde___________________________DOWNLOAD BUTTON\n",
    "    prelink = grep(animesopa, \"download?id\")\n",
    "    print(\"prelink que corresponde al boton verde: \", prelink)\n",
    "    print(\"Prelink obtenido, procediendo a separarlo en comillas _______________\")\n",
    "    prelink = prelink.split(\"\\\"\")\n",
    "\n",
    "    #Utilizamos el link para entrar a la pantalla de elegir calidad _______CALIDAD\n",
    "    link = grep(prelink, \"animeid\") # me da el link para la descarga\n",
    "    print(\"link\", link)\n",
    "    print(\"Entrando a pantalla de calidad ____________________________\")\n",
    "    #ahora estamos en la pantalla para elegir la calidad\n",
    "\n",
    "    inside_prelink = get_page(\"http:\"+ link) #otras deberemos de repetir\n",
    "    print(\"Entramos a la pantalla de calidad de manera exitosa :)\")\n",
    "                                    \n",
    "    linkcal = grep(inside_prelink, calidad).split(\"\\\"\")\n",
    "    \n",
    "    linkfinal = grep(linkcal,\"file\") #buscamos el link con la calidad 360 -------------------\n",
    "    linkfinal = linkfinal.split(\";\")[0] #soluciona los caracteres que no deben estar\n",
    "\n",
    "    print(\"______________link final antes de urld__________________\")\n",
    "    print(\"linkfinal:\", linkfinal)\n",
    "    #agregar a la lista de descargas\n",
    "    urld.append(linkfinal)\n"
   ]
  },
  {
   "source": [
    "## Como utilizarlo?\n",
    "Primero como bajas un capitulo individual?\n",
    "Existen dos formas de bajar de animeflv, la primera se utiliza un servidor propio de animeflv, que corresponde a animeid.\n",
    "\n",
    "`obtenerlinkid(url0, calidad=\"360p\")`\n",
    "\n",
    "Y la otra son servidores externos, como MEGA, Zippy, etc...\n",
    "\n",
    "` obtlinkser(url0, server = \"zippy\", debug= False)`\n",
    "\n",
    "## a estos los alimentamos con una lista\n",
    "La lista de caps se consigue con los codigos en orden:\n",
    "\n",
    "`caps = capitulos(desde],hasta])`\n",
    "\n",
    "`caps = getcaps(url0,caps)`\n",
    "\n",
    "Una vez conseguidos los links puedes copiarlos a algun programa como JDownloader para descargar de varios al mismo tiempo\n",
    "\n",
    "## Playground"
   ],
   "cell_type": "markdown",
   "metadata": {}
  },
  {
   "cell_type": "code",
   "execution_count": 5,
   "metadata": {},
   "outputs": [
    {
     "output_type": "stream",
     "name": "stdout",
     "text": [
      " Inuyasha from 91 to 92\nhttps://mega.nz/#!PGYQ1JhQ!AOp2cwA9NSItx-6VcG-bQABwgvAAn4KBLYBqjHBDBwg\nhttps://mega.nz/#!6aZwED6D!AAR_CAA0F6ec15MzneyKcQB8FQ0ATaApnP1ylp1FEaM\n____________\n"
     ]
    }
   ],
   "source": [
    "# Inuyasha\n",
    "urlinit = \"https://www3.animeflv.net/ver/inuyasha-1\"\n",
    "desde, hasta = 91,92\n",
    "caps = capitulos(desde,hasta )\n",
    "caps = getcaps(urlinit,caps)\n",
    "\n",
    "links = loopearS(caps, 'mega',counter=0)\n",
    "\n",
    "\n",
    "print(\" Inuyasha from {} to {}\".format(desde,hasta))\n",
    "for i in links:\n",
    "    print(i)\n",
    "print(\"____________\")"
   ]
  },
  {
   "source": [
    "## Playground 2"
   ],
   "cell_type": "markdown",
   "metadata": {}
  },
  {
   "cell_type": "code",
   "execution_count": 22,
   "metadata": {},
   "outputs": [
    {
     "output_type": "stream",
     "name": "stdout",
     "text": [
      "Boruto from 1 to 5_________\nhttp://www53.zippyshare.com/v/XdkuSU7U/file.html\nhttp://www86.zippyshare.com/v/5M40hyRT/file.html\nhttp://www61.zippyshare.com/v/VNbOTjxr/file.html\nhttp://www10.zippyshare.com/v/9rQkieoO/file.html\nhttp://www49.zippyshare.com/v/uMY0HpLz/file.html\n"
     ]
    }
   ],
   "source": [
    "#Borute\n",
    "urlshield = \"https://www3.animeflv.net/ver/boruto-naruto-next-generations-tv-1\"\n",
    "\n",
    "anime = \"Boruto\"\n",
    "desde, hasta = 1,5\n",
    "caps = capitulos(desde,hasta )\n",
    "caps = getcaps(urlshield,caps)\n",
    "\n",
    "links = loopearS(caps, 'zippy',counter=0)\n",
    "\n",
    "print(\"{} from {} to {}_________\".format(anime,desde,hasta))\n",
    "for i in links:\n",
    "    print(i)"
   ]
  },
  {
   "cell_type": "code",
   "execution_count": 3,
   "metadata": {},
   "outputs": [
    {
     "output_type": "stream",
     "name": "stdout",
     "text": [
      "http://www78.zippyshare.com/v/yyTBxNCC/file.html\n",
      "https://www8.zippyshare.com/v/n54h6uwC/file.html\n",
      "http://www80.zippyshare.com/v/80Q5jdH3/file.html\n",
      "http://www22.zippyshare.com/v/5FFRMf1G/file.html\n",
      "http://www46.zippyshare.com/v/YRonJIgR/file.html\n",
      "http://www39.zippyshare.com/v/n6XJby2F/file.html\n",
      "ReZero from 20 to 25_________\n",
      "https://www13.zippyshare.com/v/WwrmsU45/file.html\n",
      "http://www23.zippyshare.com/v/c7er78hx/file.html\n",
      "https://www41.zippyshare.com/v/mE3JH042/file.html\n",
      "https://www73.zippyshare.com/v/ysx3F38P/file.html\n",
      "https://www14.zippyshare.com/v/9b0P4lxY/file.html\n",
      "https://www112.zippyshare.com/v/6JbiMEMa/file.html\n"
     ]
    }
   ],
   "source": [
    "#rezero\n",
    "urlshield = \"https://www3.animeflv.net/ver/rezero-kara-hajimeru-isekai-seikatsu-1\"\n",
    "\n",
    "nombre =  \n",
    "\n",
    "desde, hasta = 20,25\n",
    "caps = capitulos(desde,hasta ) \n",
    "caps = getcaps(urlshield,caps)\n",
    "\n",
    "links = loopearS(caps, 'zippy',counter=1) #el 2do link es para latino\n",
    "\n",
    "print(\"ReZero from {} to {}_________\".format(desde,hasta))\n",
    "for i in links:\n",
    "    print(i)"
   ]
  },
  {
   "cell_type": "code",
   "execution_count": 28,
   "metadata": {},
   "outputs": [
    {
     "output_type": "execute_result",
     "data": {
      "text/plain": [
       "'www.nanana/cap/'"
      ]
     },
     "metadata": {},
     "execution_count": 28
    }
   ],
   "source": [
    "nombre = \"fabian\"\n",
    "edad = 21\n",
    "\"www.nanana/cap/1\"[:-1]"
   ]
  },
  {
   "cell_type": "code",
   "execution_count": null,
   "metadata": {},
   "outputs": [],
   "source": []
  }
 ]
}