{
 "metadata": {
  "language_info": {
   "codemirror_mode": {
    "name": "ipython",
    "version": 3
   },
   "file_extension": ".py",
   "mimetype": "text/x-python",
   "name": "python",
   "nbconvert_exporter": "python",
   "pygments_lexer": "ipython3",
   "version": "3.8.5-final"
  },
  "orig_nbformat": 2,
  "kernelspec": {
   "name": "python3",
   "display_name": "Python 3",
   "language": "python"
  }
 },
 "nbformat": 4,
 "nbformat_minor": 2,
 "cells": [
  {
   "source": [
    "# Scrapper de Animeflv\n",
    "La idea es utilizarlo en combinacion con algun software como JDownloader"
   ],
   "cell_type": "markdown",
   "metadata": {}
  },
  {
   "cell_type": "code",
   "execution_count": 1,
   "metadata": {},
   "outputs": [],
   "source": [
    "import requests                 # Para obtener datos de la pagina _____\n",
    "from bs4 import BeautifulSoup as bs\n",
    "\n",
    "# Descargar la pagina web ______________________________________________________\n",
    "#Funcion get_page() de busqueda.py\n",
    "from busqueda import *\n",
    "\n",
    "# Pasar de numero de capitulos hasta lista ___________________________________\n",
    "def capitulos(desde,hasta): # Se usa para generar una lista con los capitulos\n",
    "    \"\"\"\n",
    "    Le dices desde que capitulo hasta cual quieres, obtendras una lista con\n",
    "    los numeros de los capotulos que deseas ver\n",
    "    [1,2,3,4]\n",
    "    \"\"\"\n",
    "    caps = []\n",
    "    for i in range(desde, hasta+1): #el +1 es para incluir el 2do numero\n",
    "        caps.append(str(i)) #lo agregamos a la lista de caps como string\n",
    "    return caps\n",
    "\n",
    "# Obtener los capitulos ____________________________________________________\n",
    "def getcaps(url0, caps,imprimir = False):\n",
    "    \"\"\"\n",
    "    Le damos la url inicial, osea la del capitulo uno, y una lista con los\n",
    "    capitulos que queremos ver, automaticamente generara una lista con los\n",
    "    capitulos que buscamos, antes de usarla debes de crear una lista vacia\n",
    "    llamada \"cd\", esta funcion no retorna nada pero modifica esa lista\n",
    "\n",
    "    \"\"\"\n",
    "    url0 = url0[:-1] #quito el 1\n",
    "    cd = []\n",
    "\n",
    "    #irterar sobre los numeros\n",
    "    for n in caps:\n",
    "        cd.append(url0 + n)\n",
    "        if imprimir:\n",
    "            print(url0 + n)\n",
    "    return cd\n",
    "\n",
    "# Funcion de descarga _______________________________________________________\n",
    "def obtenerlinkid(url0, calidad=\"360p\"):\n",
    "    \"\"\"\n",
    "    Esto es cuando no existe un servidor de pormedio, pero es descarga directa\n",
    "    utilizamos las funciones get_page() y grep() para obtener la url final\n",
    "    \"\"\"\n",
    "    animesopa = get_page(url0) #descargamos la pagina\n",
    "    \n",
    "    #encontrar el link del boton verde___________________________DOWNLOAD BUTTON\n",
    "    prelink = grep(animesopa, \"download?id\")\n",
    "    print(\"prelink que corresponde al boton verde: \", prelink)\n",
    "    print(\"Prelink obtenido, procediendo a separarlo en comillas _______________\")\n",
    "    prelink = prelink.split(\"\\\"\")\n",
    "\n",
    "    #Utilizamos el link para entrar a la pantalla de elegir calidad _______CALIDAD\n",
    "    link = grep(prelink, \"animeid\") # me da el link para la descarga\n",
    "    print(\"link\", link)\n",
    "    print(\"Entrando a pantalla de calidad ____________________________\")\n",
    "    #ahora estamos en la pantalla para elegir la calidad\n",
    "\n",
    "    inside_prelink = get_page(\"http:\"+ link) #otras deberemos de repetir\n",
    "    print(\"Entramos a la pantalla de calidad de manera exitosa :)\")\n",
    "                                    \n",
    "    linkcal = grep(inside_prelink, calidad).split(\"\\\"\")\n",
    "    \n",
    "    linkfinal = grep(linkcal,\"file\") #buscamos el link con la calidad 360 -------------------\n",
    "    linkfinal = linkfinal.split(\";\")[0] #soluciona los caracteres que no deben estar\n",
    "\n",
    "    print(\"______________link final antes de urld__________________\")\n",
    "    print(\"linkfinal:\", linkfinal)\n",
    "    #agregar a la lista de descargas\n",
    "    urld.append(linkfinal)\n"
   ]
  },
  {
   "source": [
    "## Como utilizarlo?\n",
    "Primero como bajas un capitulo individual?\n",
    "Existen dos formas de bajar de animeflv, la primera se utiliza un servidor propio de animeflv, que corresponde a animeid.\n",
    "\n",
    "`obtenerlinkid(url0, calidad=\"360p\")`\n",
    "\n",
    "Y la otra son servidores externos, como MEGA, Zippy, etc...\n",
    "\n",
    "` obtlinkser(url0, server = \"zippy\", debug= False)`\n",
    "\n",
    "## a estos los alimentamos con una lista\n",
    "La lista de caps se consigue con los codigos en orden:\n",
    "\n",
    "`caps = capitulos(desde],hasta])`\n",
    "\n",
    "`caps = getcaps(url0,caps)`\n",
    "\n",
    "Una vez conseguidos los links puedes copiarlos a algun programa como JDownloader para descargar de varios al mismo tiempo\n",
    "\n",
    "## Playground"
   ],
   "cell_type": "markdown",
   "metadata": {}
  },
  {
   "cell_type": "code",
   "execution_count": 3,
   "metadata": {},
   "outputs": [
    {
     "output_type": "stream",
     "name": "stdout",
     "text": [
      "Kimetsu no Yaiba from 1 to 9\nhttps://www85.zippyshare.com/v/uk2QFkam/file.html\nhttps://www71.zippyshare.com/v/BLT2R9MU/file.html\nhttps://www39.zippyshare.com/v/KYvF3SYr/file.html\nhttps://www103.zippyshare.com/v/vxaqtSxR/file.html\nhttps://www105.zippyshare.com/v/cI10lT77/file.html\nhttps://www58.zippyshare.com/v/Kl9r6kkW/file.html\nhttps://www31.zippyshare.com/v/rPoMu5aV/file.html\nhttps://www60.zippyshare.com/v/qJhXn2Pr/file.html\nhttps://www94.zippyshare.com/v/sqe4AxWa/file.html\n____________\n"
     ]
    }
   ],
   "source": [
    "nombre = \"Shingeki\"\n",
    "urlinit = \"https://www3.animeflv.net/ver/kimetsu-no-yaiba-1\"\n",
    "desde, hasta = 1,9\n",
    "caps = capitulos(desde,hasta )\n",
    "caps = getcaps(urlinit,caps)\n",
    "\n",
    "links = loopearS(caps, 'zippy',counter=0)\n",
    "\n",
    "\n",
    "print(f\"{nombre} from {desde} to {hasta}\")\n",
    "for i in links:\n",
    "    print(i)\n",
    "print(\"____________\")"
   ]
  },
  {
   "cell_type": "code",
   "execution_count": 2,
   "metadata": {},
   "outputs": [
    {
     "output_type": "stream",
     "name": "stdout",
     "text": [
      "Jujutsu Kaisen from 16 to 21_________\nhttps://www72.zippyshare.com/v/lvXFxmNL/file.html\nhttps://www38.zippyshare.com/v/ajBP0gWg/file.html\nhttps://www14.zippyshare.com/v/6O39jZmG/file.html\nhttps://www81.zippyshare.com/v/NUvHECar/file.html\nhttps://www29.zippyshare.com/v/7MGEM8ls/file.html\nhttps://www115.zippyshare.com/v/Nfe4vc82/file.html\n"
     ]
    }
   ],
   "source": [
    "# Jujutsu Kaisen\n",
    "urlshield = \"https://www3.animeflv.net/ver/jujutsu-kaisen-tv-4\"\n",
    "\n",
    "anime = \"Jujutsu Kaisen\"\n",
    "desde, hasta = 16,21\n",
    "caps = capitulos(desde,hasta )\n",
    "caps = getcaps(urlshield,caps)\n",
    "\n",
    "links = loopearS(caps, 'zippy',counter=0)\n",
    "\n",
    "print(\"{} from {} to {}_________\".format(anime,desde,hasta))\n",
    "for i in links:\n",
    "    print(i)"
   ]
  },
  {
   "cell_type": "code",
   "execution_count": 2,
   "metadata": {},
   "outputs": [
    {
     "output_type": "stream",
     "name": "stdout",
     "text": [
      "https://www1.zippyshare.com/v/rE34gAzi/file.html\n",
      "https://www76.zippyshare.com/v/UwQ8NFN8/file.html\n",
      "https://www32.zippyshare.com/v/mskHt0sN/file.html\n",
      "ReZero from 22 to 24_________\n",
      "None\n",
      "None\n",
      "None\n"
     ]
    }
   ],
   "source": [
    "#rezero\n",
    "urlshield = \"https://www3.animeflv.net/ver/rezero-kara-hajimeru-isekai-seikatsu-2nd-season-1\"\n",
    "\n",
    "nombre =  \"Re Zero 2\"\n",
    "\n",
    "desde, hasta = 22,24\n",
    "caps = capitulos(desde,hasta ) \n",
    "caps = getcaps(urlshield,caps)\n",
    "\n",
    "links = loopearS(caps, 'zippy',counter=0) #el 2do link es para latino\n",
    "\n",
    "print(\"ReZero from {} to {}_________\".format(desde,hasta))\n",
    "for i in links:\n",
    "    print(i)"
   ]
  },
  {
   "cell_type": "code",
   "execution_count": null,
   "metadata": {},
   "outputs": [],
   "source": []
  }
 ]
}