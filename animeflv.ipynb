{
 "metadata": {
  "language_info": {
   "codemirror_mode": {
    "name": "ipython",
    "version": 3
   },
   "file_extension": ".py",
   "mimetype": "text/x-python",
   "name": "python",
   "nbconvert_exporter": "python",
   "pygments_lexer": "ipython3",
   "version": "3.8.5-final"
  },
  "orig_nbformat": 2,
  "kernelspec": {
   "name": "python3",
   "display_name": "Python 3",
   "language": "python"
  }
 },
 "nbformat": 4,
 "nbformat_minor": 2,
 "cells": [
  {
   "source": [
    "#Scrapper de Animeflv\n",
    "La idea es utilizarlo en combinacion con algun software como JDownloader"
   ],
   "cell_type": "markdown",
   "metadata": {}
  },
  {
   "cell_type": "code",
   "execution_count": 9,
   "metadata": {},
   "outputs": [],
   "source": [
    "import requests                 # Para obtener datos de la pagina _____\n",
    "from bs4 import BeautifulSoup as bs\n",
    "\n",
    "# Descargar la pagina web ______________________________________________________\n",
    "#Funcion get_page() de busqueda.py\n",
    "from busqueda import grep, get_page\n",
    "\n",
    "# Pasar de numero de capitulos hasta lista ___________________________________\n",
    "def capitulos(desde,hasta): # Se usa para generar una lista con los capitulos\n",
    "    \"\"\"\n",
    "    Le dices desde que capitulo hasta cual quieres, obtendras una lista con\n",
    "    los numeros de los capotulos que deseas ver\n",
    "    \"\"\"\n",
    "    caps = []\n",
    "    for i in range(desde, hasta+1): #el +1 es para incluir el 2do numero\n",
    "        caps.append(str(i)) #lo agregamos a la lista de caps como string\n",
    "    return caps\n",
    "\n",
    "# Obtener los capitulos ____________________________________________________\n",
    "def getcaps(url0, caps,imprimir = False):\n",
    "    \"\"\"\n",
    "    Le damos la url inicial, osea la del capitulo uno, y una lista con los\n",
    "    capitulos que queremos ver, automaticamente generara una lista con los\n",
    "    capitulos que buscamos, antes de usarla debes de crear una lista vacia\n",
    "    llamada \"cd\", esta funcion no retorna nada pero modifica esa lista\n",
    "\n",
    "    \"\"\"\n",
    "    url0 = url0[0:-1] #quito el 1\n",
    "    cd = []\n",
    "\n",
    "    #irterar sobre los numeros\n",
    "    for n in caps:\n",
    "        cd.append(url0 + n)\n",
    "        if imprimir:\n",
    "            print(url0 + n)\n",
    "    return cd\n",
    "\n",
    "# Funcion de descarga _______________________________________________________\n",
    "def obtenerlinkid(url0, calidad=\"360p\"):\n",
    "    \"\"\"\n",
    "    utilizamos las funciones get_page() y grep() para obtener la url final\n",
    "    \"\"\"\n",
    "    animesopa = get_page(url0) #descargamos la pagina\n",
    "    \n",
    "    #encontrar el link del boton verde___________________________DOWNLOAD BUTTON\n",
    "    prelink = grep(animesopa, \"download?id\")\n",
    "    print(\"prelink que corresponde al boton verde: \", prelink)\n",
    "    print(\"Prelink obtenido, procediendo a separarlo en comillas _______________\")\n",
    "    prelink = prelink.split(\"\\\"\")\n",
    "\n",
    "    #Utilizamos el link para entrar a la pantalla de elegir calidad _______CALIDAD\n",
    "    link = grep(prelink, \"animeid\") # me da el link para la descarga\n",
    "    print(\"link\", link)\n",
    "    print(\"Entrando a pantalla de calidad ____________________________\")\n",
    "    #ahora estamos en la pantalla para elegir la calidad\n",
    "\n",
    "    inside_prelink = get_page(\"http:\"+ link) #otras deberemos de repetir\n",
    "    print(\"Entramos a la pantalla de calidad de manera exitosa :)\")\n",
    "                                    \n",
    "    linkcal = grep(inside_prelink, calidad).split(\"\\\"\")\n",
    "    \n",
    "    linkfinal = grep(linkcal,\"file\") #buscamos el link con la calidad 360 -------------------\n",
    "    linkfinal = linkfinal.split(\";\")[0] #soluciona los caracteres que no deben estar\n",
    "\n",
    "    print(\"______________link final antes de urld__________________\")\n",
    "    print(\"linkfinal:\", linkfinal)\n",
    "    #agregar a la lista de descargas\n",
    "    urld.append(linkfinal)\n",
    "\n",
    "# Para descargar de servidores ____________________________________________________________\n",
    "def obtlinkser(url0, server = \"zippy\", debug= False, counter = 0):\n",
    "    animesopa = get_page(url0,True) #descargamos la pagina como        una sopa\n",
    "    #buscamos las referencias a links en la pagina:\n",
    "    hrefs= []\n",
    "    for a in animesopa.find_all('a', href=True):\n",
    "        if debug:\n",
    "            print(\"Found the URL:\", a['href'])\n",
    "        hrefs.append(a['href'])\n",
    "    if debug:\n",
    "        print(hrefs)\n",
    "\n",
    "    animesopa = list(map(str, hrefs))\n",
    "\n",
    "    if debug:\n",
    "        print(animesopa) #sigue todo desordenado aqui\n",
    "\n",
    "    # Pescamos el servidor\n",
    "    link = grep(animesopa, server,counter = counter)\n",
    "    if debug:\n",
    "        print(link)\n",
    "        print(\"Se obtuvo el link del servidor, hasta ahora todo bien\")\n",
    "    \n",
    "    return link\n",
    "    \n",
    "#Esto es para loopear entre una lista de capitulos y obtener el link final\n",
    "def loopearS(caps, server = \"MEGA\",debug=False, counter = 0):\n",
    "    \"\"\"\n",
    "    Loopea atravez de los links de servidor buscado con grep\n",
    "    \"\"\"\n",
    "    link = []\n",
    "    for c in caps:\n",
    "        if debug:\n",
    "            print(\"Obteniendo link de Server___________ cap: \",c)\n",
    "        linko = obtlinkser(c,server,debug, counter = counter)\n",
    "        link.append(linko)\n",
    "        if debug:\n",
    "            print(\"Link agregado: \", linko)\n",
    "            print(\"_______________________\")\n",
    "    return link\n",
    "    "
   ]
  },
  {
   "source": [
    "## Como utilizarlo?\n",
    "Primero como bajas un capitulo individual?\n",
    "Existen dos formas de bajar de animeflv, la primera se utiliza un servidor propio de animeflv, que corresponde a animeid.\n",
    "\n",
    "`obtenerlinkid(url0, calidad=\"360p\")`\n",
    "\n",
    "Y la otra son servidores externos, como MEGA, Zippy, etc...\n",
    "\n",
    "` obtlinkser(url0, server = \"zippy\", debug= False)`\n",
    "\n",
    "## a estos los alimentamos con una lista\n",
    "La lista de caps se consigue con los codigos en orden:\n",
    "\n",
    "`caps = capitulos(desde],hasta])`\n",
    "\n",
    "`caps = getcaps(url0,caps)`\n",
    "\n",
    "Una vez conseguidos los links puedes copiarlos a algun programa como JDownloader para descargar de varios al mismo tiempo\n",
    "\n",
    "## Playground"
   ],
   "cell_type": "markdown",
   "metadata": {}
  },
  {
   "cell_type": "code",
   "execution_count": 7,
   "metadata": {},
   "outputs": [
    {
     "output_type": "stream",
     "name": "stdout",
     "text": [
      " Inuyasha from 71 to 90\nhttp://www108.zippyshare.com/v/OWFbUDV2/file.html\nhttp://www20.zippyshare.com/v/q8lkeOLX/file.html\nhttp://www2.zippyshare.com/v/XZdhAMFL/file.html\nhttp://www34.zippyshare.com/v/qdSUy09i/file.html\nhttp://www67.zippyshare.com/v/psRvPbxs/file.html\nhttp://www51.zippyshare.com/v/HXqseAdp/file.html\nhttp://www63.zippyshare.com/v/JSd51prw/file.html\nhttp://www43.zippyshare.com/v/HyY6qqJL/file.html\nhttp://www29.zippyshare.com/v/6TBk4Cju/file.html\nhttp://www8.zippyshare.com/v/63DNX5jK/file.html\nhttp://www90.zippyshare.com/v/9DZxoEhe/file.html\nhttp://www20.zippyshare.com/v/oMIl5whl/file.html\nhttp://www18.zippyshare.com/v/sslEzuRI/file.html\nhttp://www94.zippyshare.com/v/DPR23Psl/file.html\nhttp://www78.zippyshare.com/v/neyw2zGU/file.html\nhttp://www101.zippyshare.com/v/ZWeUHapv/file.html\nhttp://www114.zippyshare.com/v/44JdstYo/file.html\nhttp://www80.zippyshare.com/v/v3NjbU2r/file.html\nhttp://www24.zippyshare.com/v/y2CCtI1C/file.html\nhttp://www48.zippyshare.com/v/92ubQhGG/file.html\n"
     ]
    }
   ],
   "source": [
    "# Inuyasha\n",
    "urlinit = \"https://www3.animeflv.net/ver/inuyasha-1\"\n",
    "desde, hasta = 71,90\n",
    "caps = capitulos(desde,hasta )\n",
    "caps = getcaps(urlinit,caps)\n",
    "\n",
    "links = loopearS(caps, 'zippy',counter=0)\n",
    "\n",
    "\n",
    "print(\" Inuyasha from {} to {}\".format(desde,hasta))\n",
    "for i in links:\n",
    "    print(i)\n",
    "print(\"____________\")"
   ]
  },
  {
   "source": [
    "## Playground 2"
   ],
   "cell_type": "markdown",
   "metadata": {}
  },
  {
   "cell_type": "code",
   "execution_count": 6,
   "metadata": {},
   "outputs": [
    {
     "output_type": "stream",
     "name": "stdout",
     "text": [
      "https://www3.animeflv.net/ver/dr-stone-stone-wars-4\n",
      "https://www3.animeflv.net/ver/dr-stone-stone-wars-5\n",
      "Dr Stone from 4 to 5_________\n",
      "https://mega.nz/#!zAsgVRIa!b7t1GtgpQf8NbvckF5O3Z5LK_hgn5Z9HZ-M4NZ7v9nE\n",
      "https://mega.nz/#!AwZFGCZL!P81TiDEiIfUjoeHya1-ghCzfmiuRBQONtqyME4eD_8E\n"
     ]
    }
   ],
   "source": [
    "#Dr Stone\n",
    "urlshield = \"https://www3.animeflv.net/ver/dr-stone-stone-wars-5\"\n",
    "\n",
    "desde, hasta = 4,5\n",
    "caps = capitulos(desde,hasta )\n",
    "caps = getcaps(urlshield,caps)\n",
    "\n",
    "links = loopearS(caps, 'mega',counter=0)\n",
    "\n",
    "print(\"Dr Stone from {} to {}_________\".format(desde,hasta))\n",
    "for i in links:\n",
    "    print(i)"
   ]
  },
  {
   "cell_type": "code",
   "execution_count": 11,
   "metadata": {},
   "outputs": [
    {
     "output_type": "stream",
     "name": "stdout",
     "text": [
      "http://www74.zippyshare.com/v/BlrlT2F2/file.html\n",
      "http://www88.zippyshare.com/v/jkvlUWmn/file.html\n",
      "http://www45.zippyshare.com/v/oGMpSqnV/file.html\n",
      "http://www60.zippyshare.com/v/Q1bBG3SW/file.html\n",
      "http://www41.zippyshare.com/v/9D0qZPhL/file.html\n",
      "http://www74.zippyshare.com/v/41HYtjDV/file.html\n",
      "ReZero from 6 to 11_________\n",
      "https://www105.zippyshare.com/v/DLoSD7Eu/file.html\n",
      "https://www116.zippyshare.com/v/nTk54PO3/file.html\n",
      "https://www22.zippyshare.com/v/zcWYFp9M/file.html\n",
      "https://www47.zippyshare.com/v/sfGNy9Zb/file.html\n",
      "https://www90.zippyshare.com/v/xYoUCQbl/file.html\n",
      "https://www104.zippyshare.com/v/A2qBg9b1/file.html\n"
     ]
    }
   ],
   "source": [
    "#rezero\n",
    "urlshield = \"https://www3.animeflv.net/ver/rezero-kara-hajimeru-isekai-seikatsu-3\"\n",
    "\n",
    "desde, hasta = 6,11\n",
    "caps = capitulos(desde,hasta )\n",
    "caps = getcaps(urlshield,caps)\n",
    "\n",
    "links = loopearS(caps, 'zippy',counter=1) #el 2do link es para latino\n",
    "\n",
    "print(\"ReZero from {} to {}_________\".format(desde,hasta))\n",
    "for i in links:\n",
    "    print(i)"
   ]
  },
  {
   "cell_type": "code",
   "execution_count": null,
   "metadata": {},
   "outputs": [],
   "source": []
  }
 ]
}